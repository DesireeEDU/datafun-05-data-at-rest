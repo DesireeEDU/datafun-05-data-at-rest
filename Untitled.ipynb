{
 "cells": [
  {
   "cell_type": "markdown",
   "id": "3f11a949-0f42-48b3-8b07-49e17fd1ba58",
   "metadata": {},
   "source": [
    "# Task 4 - SQL "
   ]
  },
  {
   "cell_type": "code",
   "execution_count": null,
   "id": "57e9fd2d-0ecf-49d8-979a-a174ad79e201",
   "metadata": {},
   "outputs": [],
   "source": [
    "Desiree Thompson\n",
    "February 12, 2023\n",
    "\n",
    "Creating a table using an sql script and continuing to practice with SQL"
   ]
  },
  {
   "cell_type": "code",
   "execution_count": 1,
   "id": "2641afa0-848d-451d-8728-a6805af5e06c",
   "metadata": {},
   "outputs": [],
   "source": [
    "import sqlite3"
   ]
  },
  {
   "cell_type": "code",
   "execution_count": 2,
   "id": "4a5d1401-2dac-41eb-b4b3-de0a221aae50",
   "metadata": {},
   "outputs": [],
   "source": [
    "connection = sqlite3.connect('books.db')"
   ]
  },
  {
   "cell_type": "code",
   "execution_count": 3,
   "id": "1255bd7e-66e7-48c8-b8cb-4111d24bcfb0",
   "metadata": {},
   "outputs": [
    {
     "ename": "NameError",
     "evalue": "name 'pd' is not defined",
     "output_type": "error",
     "traceback": [
      "\u001b[1;31m---------------------------------------------------------------------------\u001b[0m",
      "\u001b[1;31mNameError\u001b[0m                                 Traceback (most recent call last)",
      "\u001b[1;32m~\\AppData\\Local\\Temp\\ipykernel_63632\\114863130.py\u001b[0m in \u001b[0;36m<module>\u001b[1;34m\u001b[0m\n\u001b[1;32m----> 1\u001b[1;33m \u001b[0mpd\u001b[0m\u001b[1;33m.\u001b[0m\u001b[0mread_sql\u001b[0m\u001b[1;33m(\u001b[0m\u001b[1;34m'SELECT * FROM titles'\u001b[0m\u001b[1;33m,\u001b[0m \u001b[0mconnection\u001b[0m\u001b[1;33m)\u001b[0m\u001b[1;33m\u001b[0m\u001b[1;33m\u001b[0m\u001b[0m\n\u001b[0m",
      "\u001b[1;31mNameError\u001b[0m: name 'pd' is not defined"
     ]
    }
   ],
   "source": [
    "pd.read_sql('SELECT * FROM titles', connection)"
   ]
  },
  {
   "cell_type": "code",
   "execution_count": null,
   "id": "b48ff707-a399-4647-a67d-1b0283c41d75",
   "metadata": {},
   "outputs": [],
   "source": []
  }
 ],
 "metadata": {
  "kernelspec": {
   "display_name": "Python 3 (ipykernel)",
   "language": "python",
   "name": "python3"
  },
  "language_info": {
   "codemirror_mode": {
    "name": "ipython",
    "version": 3
   },
   "file_extension": ".py",
   "mimetype": "text/x-python",
   "name": "python",
   "nbconvert_exporter": "python",
   "pygments_lexer": "ipython3",
   "version": "3.9.16"
  }
 },
 "nbformat": 4,
 "nbformat_minor": 5
}
